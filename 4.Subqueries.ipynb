{
 "cells": [
  {
   "cell_type": "markdown",
   "metadata": {},
   "source": [
    "Aggregate functions such as `AVG()` is valid in the **SELECT** clause; however, they can be used in other clauses such as the `GROUP BY` and `HAVING` clauses.\n",
    "\n",
    "# subqueries. \n",
    "\n",
    "A subquery is a query nested within another query. A subquery can exist within the `SELECT`, `FROM` or `WHERE` clause and must always be contained within parentheses."
   ]
  },
  {
   "cell_type": "code",
   "execution_count": 1,
   "metadata": {},
   "outputs": [],
   "source": [
    "import pandas as pd\n",
    "import numpy as np\n",
    "import sqlite3 as sql"
   ]
  },
  {
   "cell_type": "code",
   "execution_count": 2,
   "metadata": {},
   "outputs": [],
   "source": [
    "conn = sql.connect(\"jobs.db\")\n",
    "\n",
    "def read_query(q):\n",
    "    return pd.read_sql_query(q, conn)"
   ]
  },
  {
   "cell_type": "code",
   "execution_count": 7,
   "metadata": {},
   "outputs": [
    {
     "data": {
      "text/html": [
       "<div>\n",
       "<style scoped>\n",
       "    .dataframe tbody tr th:only-of-type {\n",
       "        vertical-align: middle;\n",
       "    }\n",
       "\n",
       "    .dataframe tbody tr th {\n",
       "        vertical-align: top;\n",
       "    }\n",
       "\n",
       "    .dataframe thead th {\n",
       "        text-align: right;\n",
       "    }\n",
       "</style>\n",
       "<table border=\"1\" class=\"dataframe\">\n",
       "  <thead>\n",
       "    <tr style=\"text-align: right;\">\n",
       "      <th></th>\n",
       "      <th>ShareWomen</th>\n",
       "    </tr>\n",
       "  </thead>\n",
       "  <tbody>\n",
       "    <tr>\n",
       "      <th>0</th>\n",
       "      <td>0.535714</td>\n",
       "    </tr>\n",
       "    <tr>\n",
       "      <th>1</th>\n",
       "      <td>0.578766</td>\n",
       "    </tr>\n",
       "    <tr>\n",
       "      <th>2</th>\n",
       "      <td>0.558548</td>\n",
       "    </tr>\n",
       "    <tr>\n",
       "      <th>3</th>\n",
       "      <td>0.896019</td>\n",
       "    </tr>\n",
       "    <tr>\n",
       "      <th>4</th>\n",
       "      <td>0.750473</td>\n",
       "    </tr>\n",
       "  </tbody>\n",
       "</table>\n",
       "</div>"
      ],
      "text/plain": [
       "   ShareWomen\n",
       "0    0.535714\n",
       "1    0.578766\n",
       "2    0.558548\n",
       "3    0.896019\n",
       "4    0.750473"
      ]
     },
     "execution_count": 7,
     "metadata": {},
     "output_type": "execute_result"
    }
   ],
   "source": [
    "# Which rows are above the average for the ShareWomen column\n",
    "# q = \"\"\"Select ShareWomen From recent_grads\n",
    "#        Where ShareWomen > Avg(ShareWomen)\"\"\" This will give error\n",
    "\n",
    "q = \"\"\"Select ShareWomen from recent_grads\n",
    "        Where ShareWomen > (Select Avg(ShareWomen) from recent_grads) Limit 5\"\"\"\n",
    "read_query(q)"
   ]
  },
  {
   "cell_type": "markdown",
   "metadata": {},
   "source": [
    "The subquery is run first and returns the average value for the `ShareWomen`.  Note that SQL will ignore the column name (`AVG(ShareWomen)`) and is smart enough to just use the actual row value. "
   ]
  },
  {
   "cell_type": "markdown",
   "metadata": {},
   "source": [
    "If we had to do this using Python, we would compute and store the average value in `ShareWomen` as a variable and then use the variable in a table filter. While variables dominate how we express logic in **object-oriented programming languages** like **Python** and **Java**, `SQL` doesn't have support for variables."
   ]
  },
  {
   "cell_type": "markdown",
   "metadata": {},
   "source": [
    "The query that replaces the placeholder subquery needs to be a full query (contain `SELECT` and `FROM` clauses, etc), that works even if it's run separately. In addition, the inner query should only return a table with a single row and column because of where it fits in the outer query (... `WHERE > ?`). If we instead try to return a table with multiple columns, error will be returned:"
   ]
  },
  {
   "cell_type": "markdown",
   "metadata": {},
   "source": [
    "Lastly, a subquery must always be contained within parentheses `(` `)`, or the error will be returned:"
   ]
  },
  {
   "cell_type": "code",
   "execution_count": 12,
   "metadata": {},
   "outputs": [
    {
     "data": {
      "text/html": [
       "<div>\n",
       "<style scoped>\n",
       "    .dataframe tbody tr th:only-of-type {\n",
       "        vertical-align: middle;\n",
       "    }\n",
       "\n",
       "    .dataframe tbody tr th {\n",
       "        vertical-align: top;\n",
       "    }\n",
       "\n",
       "    .dataframe thead th {\n",
       "        text-align: right;\n",
       "    }\n",
       "</style>\n",
       "<table border=\"1\" class=\"dataframe\">\n",
       "  <thead>\n",
       "    <tr style=\"text-align: right;\">\n",
       "      <th></th>\n",
       "      <th>Major</th>\n",
       "      <th>Unemployment_rate</th>\n",
       "    </tr>\n",
       "  </thead>\n",
       "  <tbody>\n",
       "    <tr>\n",
       "      <th>0</th>\n",
       "      <td>MATHEMATICS AND COMPUTER SCIENCE</td>\n",
       "      <td>0.000000</td>\n",
       "    </tr>\n",
       "    <tr>\n",
       "      <th>1</th>\n",
       "      <td>BOTANY</td>\n",
       "      <td>0.000000</td>\n",
       "    </tr>\n",
       "    <tr>\n",
       "      <th>2</th>\n",
       "      <td>SOIL SCIENCE</td>\n",
       "      <td>0.000000</td>\n",
       "    </tr>\n",
       "    <tr>\n",
       "      <th>3</th>\n",
       "      <td>EDUCATIONAL ADMINISTRATION AND SUPERVISION</td>\n",
       "      <td>0.000000</td>\n",
       "    </tr>\n",
       "    <tr>\n",
       "      <th>4</th>\n",
       "      <td>ENGINEERING MECHANICS PHYSICS AND SCIENCE</td>\n",
       "      <td>0.006334</td>\n",
       "    </tr>\n",
       "    <tr>\n",
       "      <th>5</th>\n",
       "      <td>COURT REPORTING</td>\n",
       "      <td>0.011690</td>\n",
       "    </tr>\n",
       "    <tr>\n",
       "      <th>6</th>\n",
       "      <td>MATHEMATICS TEACHER EDUCATION</td>\n",
       "      <td>0.016203</td>\n",
       "    </tr>\n",
       "    <tr>\n",
       "      <th>7</th>\n",
       "      <td>PETROLEUM ENGINEERING</td>\n",
       "      <td>0.018381</td>\n",
       "    </tr>\n",
       "  </tbody>\n",
       "</table>\n",
       "</div>"
      ],
      "text/plain": [
       "                                        Major  Unemployment_rate\n",
       "0            MATHEMATICS AND COMPUTER SCIENCE           0.000000\n",
       "1                                      BOTANY           0.000000\n",
       "2                                SOIL SCIENCE           0.000000\n",
       "3  EDUCATIONAL ADMINISTRATION AND SUPERVISION           0.000000\n",
       "4   ENGINEERING MECHANICS PHYSICS AND SCIENCE           0.006334\n",
       "5                             COURT REPORTING           0.011690\n",
       "6               MATHEMATICS TEACHER EDUCATION           0.016203\n",
       "7                       PETROLEUM ENGINEERING           0.018381"
      ]
     },
     "execution_count": 12,
     "metadata": {},
     "output_type": "execute_result"
    }
   ],
   "source": [
    "# Query that returns the majors that are below the average for Unemployment_rate\n",
    "\n",
    "q = \"\"\"Select Major, Unemployment_rate From recent_grads\n",
    "       Where Unemployment_rate < (Select Avg(Unemployment_rate) From recent_grads)\n",
    "       Order by Unemployment_rate\n",
    "       Limit 8\n",
    "       \"\"\"\n",
    "read_query(q)"
   ]
  },
  {
   "cell_type": "code",
   "execution_count": 16,
   "metadata": {},
   "outputs": [
    {
     "data": {
      "text/html": [
       "<div>\n",
       "<style scoped>\n",
       "    .dataframe tbody tr th:only-of-type {\n",
       "        vertical-align: middle;\n",
       "    }\n",
       "\n",
       "    .dataframe tbody tr th {\n",
       "        vertical-align: top;\n",
       "    }\n",
       "\n",
       "    .dataframe thead th {\n",
       "        text-align: right;\n",
       "    }\n",
       "</style>\n",
       "<table border=\"1\" class=\"dataframe\">\n",
       "  <thead>\n",
       "    <tr style=\"text-align: right;\">\n",
       "      <th></th>\n",
       "      <th>proportion_abv_avg</th>\n",
       "    </tr>\n",
       "  </thead>\n",
       "  <tbody>\n",
       "    <tr>\n",
       "      <th>0</th>\n",
       "      <td>0.526012</td>\n",
       "    </tr>\n",
       "  </tbody>\n",
       "</table>\n",
       "</div>"
      ],
      "text/plain": [
       "   proportion_abv_avg\n",
       "0            0.526012"
      ]
     },
     "execution_count": 16,
     "metadata": {},
     "output_type": "execute_result"
    }
   ],
   "source": [
    "# SQL statement that computes the proportion (as a float value) of rows that contain above average values for the ShareWomen.\n",
    "\n",
    "q = \"\"\"Select Cast(Count(*) as Float)/(Select Count(*) from recent_grads) as proportion_abv_avg \n",
    "        from recent_grads \n",
    "        Where ShareWomen > (Select Avg(ShareWomen) From recent_grads)\"\"\"\n",
    "read_query(q)\n"
   ]
  },
  {
   "cell_type": "markdown",
   "metadata": {},
   "source": [
    "[from the documentation](https://sqlite.org/lang_expr.html), SQLite contains all of the following operators:\n",
    "\n"
   ]
  },
  {
   "cell_type": "raw",
   "metadata": {},
   "source": [
    "Operators\n",
    "SQLite understands the following binary operators, in order from highest to lowest precedence:\n",
    "\n",
    "||\n",
    "*    /    %\n",
    "+    -\n",
    "<<   >>   &    |\n",
    "<    <=   >    >=\n",
    "=    ==   !=   <>   IS   IS NOT   IN   LIKE   GLOB   MATCH   REGEXP\n",
    "AND   \n",
    "OR\n",
    "Supported unary prefix operators are these:\n",
    "\n",
    "-    +    ~    NOT"
   ]
  },
  {
   "cell_type": "markdown",
   "metadata": {},
   "source": [
    "Using the `IN` operator, we can specify a list of values that we want to match against in the `WHERE` clause.\n",
    "\n",
    "The following query returns the rows where `Major_category` equals either **Business** or **Engineering**:\n",
    "\n",
    "`SELECT Major, Major_category FROM recent_grads\n",
    "WHERE Major_category IN ('Business', 'Engineering')\n",
    "LIMIT 7`\n",
    "\n",
    "Alternate of above query is;\n",
    "\n",
    "`SELECT Major, Major_category FROM recent_grads\n",
    "WHERE Major_category ='Business' or Major_category ='Engineering' \n",
    "Limit 7`"
   ]
  },
  {
   "cell_type": "code",
   "execution_count": null,
   "metadata": {},
   "outputs": [],
   "source": [
    "q = \"\"\"SELECT Major_category, Major\n",
    "  FROM recent_grads\n",
    " WHERE Major_category IN ('Business', 'Humanities & Liberal Arts', 'Education');\"\"\"\n",
    "\n",
    "read_query(q)"
   ]
  },
  {
   "cell_type": "code",
   "execution_count": 19,
   "metadata": {},
   "outputs": [
    {
     "data": {
      "text/html": [
       "<div>\n",
       "<style scoped>\n",
       "    .dataframe tbody tr th:only-of-type {\n",
       "        vertical-align: middle;\n",
       "    }\n",
       "\n",
       "    .dataframe tbody tr th {\n",
       "        vertical-align: top;\n",
       "    }\n",
       "\n",
       "    .dataframe thead th {\n",
       "        text-align: right;\n",
       "    }\n",
       "</style>\n",
       "<table border=\"1\" class=\"dataframe\">\n",
       "  <thead>\n",
       "    <tr style=\"text-align: right;\">\n",
       "      <th></th>\n",
       "      <th>Major</th>\n",
       "      <th>Major_category</th>\n",
       "    </tr>\n",
       "  </thead>\n",
       "  <tbody>\n",
       "    <tr>\n",
       "      <th>0</th>\n",
       "      <td>MULTI/INTERDISCIPLINARY STUDIES</td>\n",
       "      <td>Interdisciplinary</td>\n",
       "    </tr>\n",
       "    <tr>\n",
       "      <th>1</th>\n",
       "      <td>FOOD SCIENCE</td>\n",
       "      <td>Agriculture &amp; Natural Resources</td>\n",
       "    </tr>\n",
       "    <tr>\n",
       "      <th>2</th>\n",
       "      <td>COURT REPORTING</td>\n",
       "      <td>Law &amp; Public Policy</td>\n",
       "    </tr>\n",
       "    <tr>\n",
       "      <th>3</th>\n",
       "      <td>ASTRONOMY AND ASTROPHYSICS</td>\n",
       "      <td>Physical Sciences</td>\n",
       "    </tr>\n",
       "    <tr>\n",
       "      <th>4</th>\n",
       "      <td>CONSTRUCTION SERVICES</td>\n",
       "      <td>Industrial Arts &amp; Consumer Services</td>\n",
       "    </tr>\n",
       "  </tbody>\n",
       "</table>\n",
       "</div>"
      ],
      "text/plain": [
       "                             Major                       Major_category\n",
       "0  MULTI/INTERDISCIPLINARY STUDIES                    Interdisciplinary\n",
       "1                     FOOD SCIENCE      Agriculture & Natural Resources\n",
       "2                  COURT REPORTING                  Law & Public Policy\n",
       "3       ASTRONOMY AND ASTROPHYSICS                    Physical Sciences\n",
       "4            CONSTRUCTION SERVICES  Industrial Arts & Consumer Services"
      ]
     },
     "execution_count": 19,
     "metadata": {},
     "output_type": "execute_result"
    }
   ],
   "source": [
    "# query that returns the Major and Major_category columns for the rows where:\n",
    "# Major_category is one of the 5 highest group level sums for the Total column\n",
    "\n",
    "q = \"\"\"Select Major, Major_category from recent_grads \n",
    "        Group by Major_category\n",
    "        Order by Sum(Total)\n",
    "        Limit 5\"\"\"\n",
    "\n",
    "read_query(q)"
   ]
  },
  {
   "cell_type": "code",
   "execution_count": null,
   "metadata": {},
   "outputs": [],
   "source": [
    "q = \"\"\"SELECT Major_category, Major\n",
    "  FROM recent_grads\n",
    " WHERE Major_category IN (SELECT Major_category\n",
    "                            FROM recent_grads\n",
    "                           GROUP BY Major_category\n",
    "                           ORDER BY SUM(TOTAL) DESC\n",
    "                           LIMIT 3\n",
    "                         );\"\"\"\n",
    "read_query(q)"
   ]
  },
  {
   "cell_type": "code",
   "execution_count": 30,
   "metadata": {},
   "outputs": [
    {
     "data": {
      "text/html": [
       "<div>\n",
       "<style scoped>\n",
       "    .dataframe tbody tr th:only-of-type {\n",
       "        vertical-align: middle;\n",
       "    }\n",
       "\n",
       "    .dataframe tbody tr th {\n",
       "        vertical-align: top;\n",
       "    }\n",
       "\n",
       "    .dataframe thead th {\n",
       "        text-align: right;\n",
       "    }\n",
       "</style>\n",
       "<table border=\"1\" class=\"dataframe\">\n",
       "  <thead>\n",
       "    <tr style=\"text-align: right;\">\n",
       "      <th></th>\n",
       "      <th>Major</th>\n",
       "      <th>avg_ratio</th>\n",
       "    </tr>\n",
       "  </thead>\n",
       "  <tbody>\n",
       "    <tr>\n",
       "      <th>0</th>\n",
       "      <td>ACCOUNTING</td>\n",
       "      <td>0.010280</td>\n",
       "    </tr>\n",
       "    <tr>\n",
       "      <th>1</th>\n",
       "      <td>ACTUARIAL SCIENCE</td>\n",
       "      <td>0.013503</td>\n",
       "    </tr>\n",
       "    <tr>\n",
       "      <th>2</th>\n",
       "      <td>ADVERTISING AND PUBLIC RELATIONS</td>\n",
       "      <td>0.012810</td>\n",
       "    </tr>\n",
       "    <tr>\n",
       "      <th>3</th>\n",
       "      <td>AEROSPACE ENGINEERING</td>\n",
       "      <td>0.009762</td>\n",
       "    </tr>\n",
       "    <tr>\n",
       "      <th>4</th>\n",
       "      <td>AGRICULTURAL ECONOMICS</td>\n",
       "      <td>0.018040</td>\n",
       "    </tr>\n",
       "  </tbody>\n",
       "</table>\n",
       "</div>"
      ],
      "text/plain": [
       "                              Major  avg_ratio\n",
       "0                        ACCOUNTING   0.010280\n",
       "1                 ACTUARIAL SCIENCE   0.013503\n",
       "2  ADVERTISING AND PUBLIC RELATIONS   0.012810\n",
       "3             AEROSPACE ENGINEERING   0.009762\n",
       "4            AGRICULTURAL ECONOMICS   0.018040"
      ]
     },
     "execution_count": 30,
     "metadata": {},
     "output_type": "execute_result"
    }
   ],
   "source": [
    "# query that returns the average ratio (Sample_size/Total)) for all of the majors.\n",
    "\n",
    "q = \"\"\"Select Major, Cast(Sample_size as float)/Total avg_ratio \n",
    "from recent_grads \n",
    "       group by Major\n",
    "        Limit 5\"\"\"\n",
    "\n",
    "read_query(q)"
   ]
  },
  {
   "cell_type": "markdown",
   "metadata": {},
   "source": [
    "When we have a SQL statement we want to write that will end up using many subqueries, it can be overwhelming at first to know how to start. In general, we want to start with the inner queries first and work our way outwards."
   ]
  },
  {
   "cell_type": "code",
   "execution_count": 37,
   "metadata": {},
   "outputs": [
    {
     "data": {
      "text/html": [
       "<div>\n",
       "<style scoped>\n",
       "    .dataframe tbody tr th:only-of-type {\n",
       "        vertical-align: middle;\n",
       "    }\n",
       "\n",
       "    .dataframe tbody tr th {\n",
       "        vertical-align: top;\n",
       "    }\n",
       "\n",
       "    .dataframe thead th {\n",
       "        text-align: right;\n",
       "    }\n",
       "</style>\n",
       "<table border=\"1\" class=\"dataframe\">\n",
       "  <thead>\n",
       "    <tr style=\"text-align: right;\">\n",
       "      <th></th>\n",
       "      <th>Major</th>\n",
       "      <th>Major_category</th>\n",
       "      <th>avg_ratio</th>\n",
       "    </tr>\n",
       "  </thead>\n",
       "  <tbody>\n",
       "    <tr>\n",
       "      <th>0</th>\n",
       "      <td>PETROLEUM ENGINEERING</td>\n",
       "      <td>Engineering</td>\n",
       "      <td>0.015391</td>\n",
       "    </tr>\n",
       "    <tr>\n",
       "      <th>1</th>\n",
       "      <td>MINING AND MINERAL ENGINEERING</td>\n",
       "      <td>Engineering</td>\n",
       "      <td>0.009259</td>\n",
       "    </tr>\n",
       "    <tr>\n",
       "      <th>2</th>\n",
       "      <td>NAVAL ARCHITECTURE AND MARINE ENGINEERING</td>\n",
       "      <td>Engineering</td>\n",
       "      <td>0.012719</td>\n",
       "    </tr>\n",
       "    <tr>\n",
       "      <th>3</th>\n",
       "      <td>ACTUARIAL SCIENCE</td>\n",
       "      <td>Business</td>\n",
       "      <td>0.013503</td>\n",
       "    </tr>\n",
       "    <tr>\n",
       "      <th>4</th>\n",
       "      <td>MECHANICAL ENGINEERING</td>\n",
       "      <td>Engineering</td>\n",
       "      <td>0.011280</td>\n",
       "    </tr>\n",
       "  </tbody>\n",
       "</table>\n",
       "</div>"
      ],
      "text/plain": [
       "                                       Major Major_category  avg_ratio\n",
       "0                      PETROLEUM ENGINEERING    Engineering   0.015391\n",
       "1             MINING AND MINERAL ENGINEERING    Engineering   0.009259\n",
       "2  NAVAL ARCHITECTURE AND MARINE ENGINEERING    Engineering   0.012719\n",
       "3                          ACTUARIAL SCIENCE       Business   0.013503\n",
       "4                     MECHANICAL ENGINEERING    Engineering   0.011280"
      ]
     },
     "execution_count": 37,
     "metadata": {},
     "output_type": "execute_result"
    }
   ],
   "source": [
    "# query that:\n",
    "# selects the Major, Major_category, and the computed ratio columns\n",
    "# filters to just the rows where ratio is greater than avg_ratio\n",
    "\n",
    "q = \"\"\"Select Major, Major_category, Cast(Sample_size as float)/Total avg_ratio\n",
    "        From recent_grads\n",
    "        where avg_ratio > (Select Avg(Cast(Sample_size as float)/Total) from recent_grads)\n",
    "        Limit 5\n",
    "        \"\"\"\n",
    "read_query(q)"
   ]
  },
  {
   "cell_type": "code",
   "execution_count": null,
   "metadata": {},
   "outputs": [],
   "source": []
  }
 ],
 "metadata": {
  "kernelspec": {
   "display_name": "Python 3",
   "language": "python",
   "name": "python3"
  },
  "language_info": {
   "codemirror_mode": {
    "name": "ipython",
    "version": 3
   },
   "file_extension": ".py",
   "mimetype": "text/x-python",
   "name": "python",
   "nbconvert_exporter": "python",
   "pygments_lexer": "ipython3",
   "version": "3.7.6"
  }
 },
 "nbformat": 4,
 "nbformat_minor": 2
}
